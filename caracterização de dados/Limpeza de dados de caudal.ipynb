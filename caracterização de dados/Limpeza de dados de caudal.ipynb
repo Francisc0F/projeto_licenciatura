{
 "cells": [
  {
   "cell_type": "code",
   "execution_count": 1,
   "id": "5c990844",
   "metadata": {},
   "outputs": [
    {
     "data": {
      "text/html": [
       "<div>\n",
       "<style scoped>\n",
       "    .dataframe tbody tr th:only-of-type {\n",
       "        vertical-align: middle;\n",
       "    }\n",
       "\n",
       "    .dataframe tbody tr th {\n",
       "        vertical-align: top;\n",
       "    }\n",
       "\n",
       "    .dataframe thead th {\n",
       "        text-align: right;\n",
       "    }\n",
       "</style>\n",
       "<table border=\"1\" class=\"dataframe\">\n",
       "  <thead>\n",
       "    <tr style=\"text-align: right;\">\n",
       "      <th></th>\n",
       "      <th>Caudal</th>\n",
       "    </tr>\n",
       "    <tr>\n",
       "      <th>Tempo</th>\n",
       "      <th></th>\n",
       "    </tr>\n",
       "  </thead>\n",
       "  <tbody>\n",
       "    <tr>\n",
       "      <th>2020-01-01 23:26:58</th>\n",
       "      <td>4.39</td>\n",
       "    </tr>\n",
       "    <tr>\n",
       "      <th>2020-01-02 00:26:58</th>\n",
       "      <td>3.90</td>\n",
       "    </tr>\n",
       "    <tr>\n",
       "      <th>2020-01-02 01:26:58</th>\n",
       "      <td>3.60</td>\n",
       "    </tr>\n",
       "    <tr>\n",
       "      <th>2020-01-02 02:26:58</th>\n",
       "      <td>3.30</td>\n",
       "    </tr>\n",
       "    <tr>\n",
       "      <th>2020-01-02 03:26:54</th>\n",
       "      <td>3.30</td>\n",
       "    </tr>\n",
       "  </tbody>\n",
       "</table>\n",
       "</div>"
      ],
      "text/plain": [
       "                     Caudal\n",
       "Tempo                      \n",
       "2020-01-01 23:26:58    4.39\n",
       "2020-01-02 00:26:58    3.90\n",
       "2020-01-02 01:26:58    3.60\n",
       "2020-01-02 02:26:58    3.30\n",
       "2020-01-02 03:26:54    3.30"
      ]
     },
     "execution_count": 1,
     "metadata": {},
     "output_type": "execute_result"
    }
   ],
   "source": [
    "import pandas as pd\n",
    "import matplotlib.pyplot as plt \n",
    "from pandas import Series\n",
    "import seaborn as sns\n",
    "from datetime import datetime,timedelta\n",
    "\n",
    "dfCaudal = pd.read_excel(r'caudal.xlsx')\n",
    "dfCaudal = pd.DataFrame(dfCaudal, columns=['Tempo', 'Caudal'])\n",
    "\n",
    "dfCaudal['Tempo'] = pd.to_datetime(dfCaudal['Tempo'])\n",
    "\n",
    "dfCaudal['Caudal'] = pd.to_numeric(dfCaudal['Caudal'], errors='coerce')\n",
    "dfCaudal.set_index('Tempo', inplace=True)\n",
    "\n",
    "dfCaudal.head()"
   ]
  },
  {
   "cell_type": "code",
   "execution_count": null,
   "id": "e1100ace",
   "metadata": {},
   "outputs": [],
   "source": [
    "\n",
    "#def insereDadosSimulados(df):\n",
    "#    copy = df.copy()\n",
    "#    date_1 = '09-06-2022 15:37:06'\n",
    "#    date_2 = '24-06-2022 20:37:09'\n",
    "#    date_format_str = '%d-%m-%Y %H:%M:%S'\n",
    "#    start = datetime.strptime(date_1, date_format_str)\n",
    "#    end =   datetime.strptime(date_2, date_format_str)\n",
    "    \n",
    "#    start = start + timedelta(hours=1)\n",
    "#    while(start < end):\n",
    "        \n",
    "    # Get interval between two timstamps as timedelta object\n",
    "    #diff = end - start\n",
    "    #print(copy.head())\n",
    "    # Get interval between two timstamps in hours\n",
    "    #diff_in_hours = round(diff.total_seconds() / 3600)\n",
    "    \n",
    "    #print(copy.Index([date_1]))\n",
    "    \n",
    "    #copy.insert(, 1, values= [NaN])\n",
    "\n",
    "#insereDadosSimulados(dfCaudal)"
   ]
  },
  {
   "cell_type": "code",
   "execution_count": null,
   "id": "946f4703",
   "metadata": {
    "scrolled": false
   },
   "outputs": [],
   "source": [
    "dfCaudal.head()"
   ]
  },
  {
   "cell_type": "code",
   "execution_count": null,
   "id": "8da3f3b3",
   "metadata": {},
   "outputs": [],
   "source": [
    "dfCaudal.head()"
   ]
  },
  {
   "cell_type": "code",
   "execution_count": null,
   "id": "b7a92184",
   "metadata": {},
   "outputs": [],
   "source": []
  }
 ],
 "metadata": {
  "kernelspec": {
   "display_name": "Python 3 (ipykernel)",
   "language": "python",
   "name": "python3"
  },
  "language_info": {
   "codemirror_mode": {
    "name": "ipython",
    "version": 3
   },
   "file_extension": ".py",
   "mimetype": "text/x-python",
   "name": "python",
   "nbconvert_exporter": "python",
   "pygments_lexer": "ipython3",
   "version": "3.10.9"
  }
 },
 "nbformat": 4,
 "nbformat_minor": 5
}
