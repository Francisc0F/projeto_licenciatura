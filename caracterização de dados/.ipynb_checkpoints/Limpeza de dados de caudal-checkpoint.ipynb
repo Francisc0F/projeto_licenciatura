{
 "cells": [
  {
   "cell_type": "code",
   "execution_count": 2,
   "id": "7545fb99",
   "metadata": {},
   "outputs": [
    {
     "data": {
      "text/html": [
       "<div>\n",
       "<style scoped>\n",
       "    .dataframe tbody tr th:only-of-type {\n",
       "        vertical-align: middle;\n",
       "    }\n",
       "\n",
       "    .dataframe tbody tr th {\n",
       "        vertical-align: top;\n",
       "    }\n",
       "\n",
       "    .dataframe thead th {\n",
       "        text-align: right;\n",
       "    }\n",
       "</style>\n",
       "<table border=\"1\" class=\"dataframe\">\n",
       "  <thead>\n",
       "    <tr style=\"text-align: right;\">\n",
       "      <th></th>\n",
       "      <th>Caudal</th>\n",
       "    </tr>\n",
       "    <tr>\n",
       "      <th>Tempo</th>\n",
       "      <th></th>\n",
       "    </tr>\n",
       "  </thead>\n",
       "  <tbody>\n",
       "    <tr>\n",
       "      <th>2020-01-01 23:26:58</th>\n",
       "      <td>4.39</td>\n",
       "    </tr>\n",
       "    <tr>\n",
       "      <th>2020-01-02 00:26:58</th>\n",
       "      <td>3.90</td>\n",
       "    </tr>\n",
       "    <tr>\n",
       "      <th>2020-01-02 01:26:58</th>\n",
       "      <td>3.60</td>\n",
       "    </tr>\n",
       "    <tr>\n",
       "      <th>2020-01-02 02:26:58</th>\n",
       "      <td>3.30</td>\n",
       "    </tr>\n",
       "    <tr>\n",
       "      <th>2020-01-02 03:26:54</th>\n",
       "      <td>3.30</td>\n",
       "    </tr>\n",
       "  </tbody>\n",
       "</table>\n",
       "</div>"
      ],
      "text/plain": [
       "                     Caudal\n",
       "Tempo                      \n",
       "2020-01-01 23:26:58    4.39\n",
       "2020-01-02 00:26:58    3.90\n",
       "2020-01-02 01:26:58    3.60\n",
       "2020-01-02 02:26:58    3.30\n",
       "2020-01-02 03:26:54    3.30"
      ]
     },
     "execution_count": 2,
     "metadata": {},
     "output_type": "execute_result"
    }
   ],
   "source": [
    "import pandas as pd\n",
    "import matplotlib.pyplot as plt \n",
    "from pandas import Series\n",
    "import seaborn as sns\n",
    "\n",
    "dfCaudal = pd.read_excel(r'caudal.xlsx')\n",
    "dfCaudal = pd.DataFrame(dfCaudal, columns=['Tempo', 'Caudal'])\n",
    "\n",
    "dfCaudal['Tempo'] = pd.to_datetime(dfCaudal['Tempo'])\n",
    "\n",
    "dfCaudal['Caudal'] = pd.to_numeric(dfCaudal['Caudal'], errors='coerce')\n",
    "dfCaudal.set_index('Tempo', inplace=True)\n",
    "\n",
    "dfCaudal.head()"
   ]
  },
  {
   "cell_type": "code",
   "execution_count": 69,
   "id": "a093f7d7",
   "metadata": {},
   "outputs": [],
   "source": [
    "from datetime import datetime\n",
    "def insereDadosSimulados(df):\n",
    "    copy = df.copy()\n",
    "    date_1 = '09-06-2022 15:37:06'\n",
    "    date_2 = '24-06-2022 20:37:09'\n",
    "    date_format_str = '%d-%m-%Y %H:%M:%S'\n",
    "    start = datetime.strptime(date_1, date_format_str)\n",
    "    end =   datetime.strptime(date_2, date_format_str)\n",
    "    \n",
    "    #start = start + timedelta(hours=1)\n",
    "    #while(start < end):\n",
    "        \n",
    "        \n",
    "    # Get interval between two timstamps as timedelta object\n",
    "    diff = end - start\n",
    "    print(copy.head())\n",
    "    # Get interval between two timstamps in hours\n",
    "    diff_in_hours = round(diff.total_seconds() / 3600)\n",
    "    \n",
    "    print(copy.Index([date_1]))\n",
    "    \n",
    "    #copy.insert(, 1, values= [NaN])\n",
    "insereDadosSimulados(dfCaudal)    "
   ]
  },
  {
   "cell_type": "code",
   "execution_count": 70,
   "id": "96cb4959",
   "metadata": {
    "scrolled": false
   },
   "outputs": [
    {
     "name": "stdout",
     "output_type": "stream",
     "text": [
      "                     Caudal\n",
      "Tempo                      \n",
      "2020-01-01 23:26:58    4.39\n",
      "2020-01-02 00:26:58    3.90\n",
      "2020-01-02 01:26:58    3.60\n",
      "2020-01-02 02:26:58    3.30\n",
      "2020-01-02 03:26:54    3.30\n"
     ]
    },
    {
     "ename": "AttributeError",
     "evalue": "'DataFrame' object has no attribute 'Index'",
     "output_type": "error",
     "traceback": [
      "\u001b[1;31m---------------------------------------------------------------------------\u001b[0m",
      "\u001b[1;31mAttributeError\u001b[0m                            Traceback (most recent call last)",
      "Cell \u001b[1;32mIn [70], line 1\u001b[0m\n\u001b[1;32m----> 1\u001b[0m \u001b[43minsereDadosSimulados\u001b[49m\u001b[43m(\u001b[49m\u001b[43mdfCaudal\u001b[49m\u001b[43m)\u001b[49m\n",
      "Cell \u001b[1;32mIn [69], line 20\u001b[0m, in \u001b[0;36minsereDadosSimulados\u001b[1;34m(df)\u001b[0m\n\u001b[0;32m     17\u001b[0m \u001b[38;5;66;03m# Get interval between two timstamps in hours\u001b[39;00m\n\u001b[0;32m     18\u001b[0m diff_in_hours \u001b[38;5;241m=\u001b[39m \u001b[38;5;28mround\u001b[39m(diff\u001b[38;5;241m.\u001b[39mtotal_seconds() \u001b[38;5;241m/\u001b[39m \u001b[38;5;241m3600\u001b[39m)\n\u001b[1;32m---> 20\u001b[0m \u001b[38;5;28mprint\u001b[39m(\u001b[43mcopy\u001b[49m\u001b[38;5;241;43m.\u001b[39;49m\u001b[43mIndex\u001b[49m([date_1]))\n",
      "File \u001b[1;32m~\\AppData\\Local\\Packages\\PythonSoftwareFoundation.Python.3.10_qbz5n2kfra8p0\\LocalCache\\local-packages\\Python310\\site-packages\\pandas\\core\\generic.py:5902\u001b[0m, in \u001b[0;36mNDFrame.__getattr__\u001b[1;34m(self, name)\u001b[0m\n\u001b[0;32m   5895\u001b[0m \u001b[38;5;28;01mif\u001b[39;00m (\n\u001b[0;32m   5896\u001b[0m     name \u001b[38;5;129;01mnot\u001b[39;00m \u001b[38;5;129;01min\u001b[39;00m \u001b[38;5;28mself\u001b[39m\u001b[38;5;241m.\u001b[39m_internal_names_set\n\u001b[0;32m   5897\u001b[0m     \u001b[38;5;129;01mand\u001b[39;00m name \u001b[38;5;129;01mnot\u001b[39;00m \u001b[38;5;129;01min\u001b[39;00m \u001b[38;5;28mself\u001b[39m\u001b[38;5;241m.\u001b[39m_metadata\n\u001b[0;32m   5898\u001b[0m     \u001b[38;5;129;01mand\u001b[39;00m name \u001b[38;5;129;01mnot\u001b[39;00m \u001b[38;5;129;01min\u001b[39;00m \u001b[38;5;28mself\u001b[39m\u001b[38;5;241m.\u001b[39m_accessors\n\u001b[0;32m   5899\u001b[0m     \u001b[38;5;129;01mand\u001b[39;00m \u001b[38;5;28mself\u001b[39m\u001b[38;5;241m.\u001b[39m_info_axis\u001b[38;5;241m.\u001b[39m_can_hold_identifiers_and_holds_name(name)\n\u001b[0;32m   5900\u001b[0m ):\n\u001b[0;32m   5901\u001b[0m     \u001b[38;5;28;01mreturn\u001b[39;00m \u001b[38;5;28mself\u001b[39m[name]\n\u001b[1;32m-> 5902\u001b[0m \u001b[38;5;28;01mreturn\u001b[39;00m \u001b[38;5;28;43mobject\u001b[39;49m\u001b[38;5;241;43m.\u001b[39;49m\u001b[38;5;21;43m__getattribute__\u001b[39;49m\u001b[43m(\u001b[49m\u001b[38;5;28;43mself\u001b[39;49m\u001b[43m,\u001b[49m\u001b[43m \u001b[49m\u001b[43mname\u001b[49m\u001b[43m)\u001b[49m\n",
      "\u001b[1;31mAttributeError\u001b[0m: 'DataFrame' object has no attribute 'Index'"
     ]
    }
   ],
   "source": []
  },
  {
   "cell_type": "code",
   "execution_count": null,
   "id": "0dec7bed",
   "metadata": {},
   "outputs": [],
   "source": []
  },
  {
   "cell_type": "code",
   "execution_count": null,
   "id": "53d8aabd",
   "metadata": {},
   "outputs": [],
   "source": []
  }
 ],
 "metadata": {
  "kernelspec": {
   "display_name": "Python 3 (ipykernel)",
   "language": "python",
   "name": "python3"
  },
  "language_info": {
   "codemirror_mode": {
    "name": "ipython",
    "version": 3
   },
   "file_extension": ".py",
   "mimetype": "text/x-python",
   "name": "python",
   "nbconvert_exporter": "python",
   "pygments_lexer": "ipython3",
   "version": "3.10.8"
  }
 },
 "nbformat": 4,
 "nbformat_minor": 5
}
